{
 "cells": [
  {
   "cell_type": "markdown",
   "metadata": {},
   "source": [
    "# Lab 2 - Introduction to Jupyter Notebooks, Data Structures, and Pandas"
   ]
  },
  {
   "cell_type": "markdown",
   "metadata": {},
   "source": [
    "This introductory notebook will review concepts that you may already be familiar with from Data 8 or similar courses. The basic strategies and tools for data analysis covered in this notebook will be the foundations of this class. It will cover an overview of our software and some programming concepts.\n",
    "\n"
   ]
  },
  {
   "cell_type": "markdown",
   "metadata": {},
   "source": [
    "# **Part 1 - Our Computing Environment, Jupyter notebooks** \n",
    "This webpage is called a \"Jupyter notebook\" (we'll call it \"notebook\" for short). A notebook is a place to **write programs** and **view their results and output**. \n",
    "\n",
    "## Text cells\n",
    "In a notebook, each rectangle containing text or code is called a *cell*.\n",
    "\n",
    "Text cells (like this one) can be edited by double-clicking on them. They're written in a simple format called [Markdown](http://daringfireball.net/projects/markdown/syntax) to add formatting and section headings. \n",
    "\n",
    "After you edit a text cell, click the \"run cell\" button at the top that looks like ▶| to confirm any changes. (Try not to delete the instructions of the lab.) \n",
    "\n",
    "Tip: You can also use a shortcut of **`Shift + Return (enter)`** to \"run\" this cell."
   ]
  },
  {
   "cell_type": "markdown",
   "metadata": {},
   "source": [
    "**Understanding Check 1** This paragraph is in its own text cell.  \n",
    "Try editing it so that this sentence is the last sentence in the paragraph, and then click the \"run cell\" ▶| button. This sentence, for example, should be deleted.  So should this one."
   ]
  },
  {
   "cell_type": "markdown",
   "metadata": {},
   "source": [
    "## Code cells\n",
    "Other cells contain code in the Python 3 language. Running a code cell will execute all of the code it contains.\n",
    "\n",
    "To run the code in a code cell, first click on that cell to activate it.  It'll be highlighted with a little green or blue rectangle.  Next, either press ▶| or again, hold down the `shift` key and press `return` or `enter`.\n",
    "\n",
    "The fundamental building block of Python code is an expression. Cells can contain multiple lines with multiple expressions. \n",
    "\n",
    "When you run a cell, the lines of code are executed in the order in which they appear. Every `print` expression prints a line. Run the next cell and notice the order of the output.\n",
    "\n",
    "Note: Notice the change from \"Markdown\" to \"Code\" on the top."
   ]
  },
  {
   "cell_type": "code",
   "execution_count": null,
   "metadata": {
    "ExecuteTime": {
     "end_time": "2022-09-04T05:38:54.548905Z",
     "start_time": "2022-09-04T05:38:54.545920Z"
    },
    "scrolled": false
   },
   "outputs": [],
   "source": [
    "print(\"First this line is printed,\")\n",
    "print(\"and then this one.\")\n",
    "print(\"Hello World\")\n",
    "print(\"\\N{WAVING HAND SIGN}, \\N{EARTH GLOBE AMERICAS}!\")"
   ]
  },
  {
   "cell_type": "markdown",
   "metadata": {},
   "source": [
    "Don't be scared if you see a \"Kernel Restarting\" message! Your data and work will still be saved. Once you see \"Kernel Ready\" in a light blue box on the top right of the notebook, you'll be ready to work again. \n",
    "\n",
    "If a restart happens, you should **rerun** any cells with imports, variables, and loaded data."
   ]
  },
  {
   "cell_type": "markdown",
   "metadata": {},
   "source": [
    "## Writing Jupyter notebooks\n",
    "You can use Jupyter notebooks for your own projects or documents.  When you make your own notebook, you'll need to create your own cells for text and code.\n",
    "\n",
    "To add a cell, click the **`+`** button in the menu bar.  It'll start out as a text cell.  You can change it to a code cell by clicking inside it so it's highlighted, clicking the drop-down box next to the restart (⟳) button in the menu bar, and choosing \"Code\".\n",
    "\n",
    "Tip: as a shortcut, you can also select the cell (single click or click on the left of it) and press **`A`** to add a cell above or **`B`** to add a cell below. "
   ]
  },
  {
   "cell_type": "markdown",
   "metadata": {},
   "source": [
    "## Errors\n",
    "Python is a language, and like natural human languages, it has rules.  It differs from natural language in two important ways:\n",
    "\n",
    "1. The rules are **simple**.  You can learn most of them in a few weeks and gain reasonable proficiency with the language in a semester.\n",
    "2. The rules are **rigid**.  If you're proficient in a natural language, you can understand a non-proficient speaker, glossing over small mistakes.  A computer running Python code is not smart enough to do that.\n",
    "\n",
    "Whenever you write code, you'll make mistakes.  When you run a code cell that has errors, Python will sometimes produce error messages to tell you what you did wrong.\n",
    "\n",
    "**Errors are okay**; even experienced programmers make many errors.  When you make an error, you just have to find the source of the problem, fix it, and move on.\n",
    "\n",
    "We have made an error in the next cell.  Run it and see what happens."
   ]
  },
  {
   "cell_type": "code",
   "execution_count": null,
   "metadata": {
    "ExecuteTime": {
     "end_time": "2022-09-04T05:39:00.464577Z",
     "start_time": "2022-09-04T05:39:00.460583Z"
    }
   },
   "outputs": [],
   "source": [
    "print(\"This line is missing something.\""
   ]
  },
  {
   "cell_type": "markdown",
   "metadata": {},
   "source": [
    "The last line of the error output attempts to tell you what went wrong.  The **syntax** of a language is its structure, and this **`SyntaxError`** tells you that you have created an illegal structure.  **\"`EOF`\"** means \"end of file,\" so the message is saying Python expected you to write something more (in this case, a right parenthesis) before finishing the cell.\n",
    "\n",
    "There's a lot of terminology in programming languages, but you don't need to know it all in order to program effectively. If you see a cryptic message like this, you can often get by without deciphering it.  \n",
    "\n",
    "**Understanding Check 2** Try to fix the code above so that you can run the cell and see the intended message instead of an error."
   ]
  },
  {
   "cell_type": "code",
   "execution_count": null,
   "metadata": {
    "ExecuteTime": {
     "end_time": "2022-09-01T02:42:13.622834Z",
     "start_time": "2022-09-01T02:42:13.591864Z"
    }
   },
   "outputs": [],
   "source": []
  },
  {
   "cell_type": "markdown",
   "metadata": {},
   "source": [
    "------------------------\n",
    "\n",
    "# **Part 2 - Python basics -  Introduction to Programming Concepts and Data** \n",
    "Before getting into the more advanced analysis techniques that will be required in this course, we need to cover a few of the foundational elements of programming in Python."
   ]
  },
  {
   "cell_type": "markdown",
   "metadata": {},
   "source": [
    "## A. Expressions\n",
    "The departure point for all programming is the concept of the **expression**. \n",
    "\n",
    "An expression is a combination of variables, operators, and other Python elements that the language interprets and acts upon. Expressions act as a set of instructions to be fed through the interpreter, with the goal of generating specific outcomes. See below for some examples of basic expressions."
   ]
  },
  {
   "cell_type": "code",
   "execution_count": null,
   "metadata": {
    "ExecuteTime": {
     "end_time": "2022-09-04T05:39:06.669473Z",
     "start_time": "2022-09-04T05:39:06.653482Z"
    }
   },
   "outputs": [],
   "source": [
    "# Examples of expressions:\n",
    "\n",
    "#addition\n",
    "print(2 + 2)\n",
    "\n",
    "#string concatenation \n",
    "print('me' + ' and I')\n",
    "\n",
    "#you can print a number with a string if you cast it \n",
    "print(\"me\" + str(2))\n",
    "\n",
    "#exponents\n",
    "print(12 ** 2)\n"
   ]
  },
  {
   "cell_type": "markdown",
   "metadata": {},
   "source": [
    "You will notice that only the last line in a cell gets printed out. If you want to see the values of previous expressions, you need to call **`print`** on that expression. Try adding **`print`** statements to some of the above expressions to get them to display."
   ]
  },
  {
   "cell_type": "markdown",
   "metadata": {},
   "source": [
    "## B. Data Types\n",
    "\n",
    "In Python, all things have a type. In the above example, you saw saw __*integers*__ (positive and negative whole numbers) and __*strings*__ (sequences of characters, often thought of as words or sentences). \n",
    "\n",
    "We denote strings by surrounding the desired value with quotes: \n",
    "* For example, \"Data Science\" and \"2017\" are strings, while `bears` and `2020` (both without quotes) are not strings (`bears` without quotes would be interpreted as a variable). \n",
    "\n",
    "In addition to strings and integers, you'll also be using decimal numbers in Python, which are called __*floats*__ (positive and negative decimal numbers). \n",
    "\n",
    "You'll also often run into __*booleans*__. They can take on one of two values: `True` or `False`. Booleans are often used to check conditions; for example, we might have a list of dogs, and we want to sort them into small dogs and large dogs. One way we could accomplish this is to say either `True` or `False` for each dog after seeing if the dog weighs more than 15 pounds. \n",
    "\n",
    "We'll soon be going over additional data types. Below is a table that summarizes the information in this section:"
   ]
  },
  {
   "cell_type": "markdown",
   "metadata": {},
   "source": [
    "|Variable Type|Definition|Examples|\n",
    "|-|-|-|\n",
    "|Integer|Positive and negative whole numbers|`42`, `-10`, `0`|\n",
    "|Float|Positive and negative decimal numbers|`73.9`, `2.4`, `0.0`|\n",
    "|String|Sequence of characters|`\"Go Bears!\"`, `\"variables\"`|\n",
    "|Boolean|True or false value|`True`, `False`|\n"
   ]
  },
  {
   "cell_type": "markdown",
   "metadata": {},
   "source": [
    "## C. Variables\n",
    "In the example below, __`a`__ and __`b`__ are Python objects known as __variables__. \n",
    "\n",
    "We are giving an object (in this case, an `integer` and a `float`, two Python data types) a name that we can store for later use. To use that value, we can simply type the name that we stored the value as. \n",
    "\n",
    "Variables are stored within the notebook's environment, meaning stored variable values carry over from cell to cell."
   ]
  },
  {
   "cell_type": "code",
   "execution_count": null,
   "metadata": {
    "ExecuteTime": {
     "end_time": "2022-09-04T05:39:14.106846Z",
     "start_time": "2022-09-04T05:39:14.101853Z"
    }
   },
   "outputs": [],
   "source": [
    "# assign values to \"a\" and \"b\"\n",
    "a = 4\n",
    "b = 10/5\n",
    "\n",
    "# Notice that \"a\" retains its value.\n",
    "print(a)"
   ]
  },
  {
   "cell_type": "code",
   "execution_count": null,
   "metadata": {
    "ExecuteTime": {
     "end_time": "2022-09-04T05:39:14.951643Z",
     "start_time": "2022-09-04T05:39:14.941649Z"
    }
   },
   "outputs": [],
   "source": [
    "# add variables \"a\" and \"b\"\n",
    "a + b"
   ]
  },
  {
   "cell_type": "markdown",
   "metadata": {},
   "source": [
    "### Question 1: Variables\n",
    "Let's see if we can write a series of expressions that creates two new variables called __x__ and __y__ and assigns them values of __10.5__ and __7.2__. Then assign their product to the variable __combo__ and print it."
   ]
  },
  {
   "cell_type": "code",
   "execution_count": null,
   "metadata": {
    "ExecuteTime": {
     "end_time": "2022-09-04T05:39:29.107936Z",
     "start_time": "2022-09-04T05:39:29.091957Z"
    }
   },
   "outputs": [],
   "source": [
    "# Fill in the missing lines to complete the expressions.\n"
   ]
  },
  {
   "cell_type": "markdown",
   "metadata": {},
   "source": [
    "Check to see if the value you get for **combo** is what you expect it to be."
   ]
  },
  {
   "cell_type": "markdown",
   "metadata": {},
   "source": [
    "## D. Strings\n",
    "In Python, a string is a sequence of characters. Strings can be created by enclosing characters inside a single quote or double-quotes. "
   ]
  },
  {
   "cell_type": "code",
   "execution_count": null,
   "metadata": {
    "ExecuteTime": {
     "end_time": "2022-09-04T05:39:31.829133Z",
     "start_time": "2022-09-04T05:39:31.820114Z"
    }
   },
   "outputs": [],
   "source": [
    "#All 4 strings are the same \n",
    "String = \"Hello World\" \n",
    "String = 'Hello World' \n",
    "String = \"\"\"Hello World\"\"\" \n",
    "String = \"Hello\" + \" \" + \"World\"\n",
    "print(String)"
   ]
  },
  {
   "cell_type": "code",
   "execution_count": null,
   "metadata": {
    "ExecuteTime": {
     "end_time": "2022-09-04T05:39:52.307587Z",
     "start_time": "2022-09-04T05:39:52.302606Z"
    }
   },
   "outputs": [],
   "source": [
    "first_letter = String[0] # Indexing in python start at 0 \n",
    "print(first_letter)\n",
    "\n",
    "last_letter = String[-1] # Indexing into the last character \n",
    "print(last_letter)"
   ]
  },
  {
   "cell_type": "code",
   "execution_count": null,
   "metadata": {
    "ExecuteTime": {
     "end_time": "2022-09-04T05:39:54.548388Z",
     "start_time": "2022-09-04T05:39:54.530391Z"
    }
   },
   "outputs": [],
   "source": [
    "## empty string\n",
    "string = \"\" \n",
    "string"
   ]
  },
  {
   "cell_type": "markdown",
   "metadata": {},
   "source": [
    "Note: You **cannot** do the similar operations on strings as you can on integers. This is because they are a different **data type**"
   ]
  },
  {
   "cell_type": "code",
   "execution_count": null,
   "metadata": {
    "ExecuteTime": {
     "end_time": "2022-09-04T05:40:27.529224Z",
     "start_time": "2022-09-04T05:40:27.514211Z"
    }
   },
   "outputs": [],
   "source": [
    "four = 4\n",
    "three = 3\n",
    "four + three"
   ]
  },
  {
   "cell_type": "code",
   "execution_count": null,
   "metadata": {
    "ExecuteTime": {
     "end_time": "2022-09-04T05:40:28.564995Z",
     "start_time": "2022-09-04T05:40:28.548004Z"
    }
   },
   "outputs": [],
   "source": [
    "four = \"4\"\n",
    "three = \"3\"\n",
    "four + three"
   ]
  },
  {
   "cell_type": "markdown",
   "metadata": {},
   "source": [
    "As you can see, \"adding\" strings concatenates them."
   ]
  },
  {
   "cell_type": "code",
   "execution_count": null,
   "metadata": {
    "ExecuteTime": {
     "end_time": "2022-09-04T05:40:38.895932Z",
     "start_time": "2022-09-04T05:40:38.766914Z"
    }
   },
   "outputs": [],
   "source": [
    "four = 4\n",
    "three = \"3\"\n",
    "four + three"
   ]
  },
  {
   "cell_type": "markdown",
   "metadata": {},
   "source": [
    "Why didn't it work? Let's look at the **types** of data we are dealing with:"
   ]
  },
  {
   "cell_type": "code",
   "execution_count": null,
   "metadata": {
    "ExecuteTime": {
     "end_time": "2022-09-04T05:40:41.252762Z",
     "start_time": "2022-09-04T05:40:41.238739Z"
    }
   },
   "outputs": [],
   "source": [
    "type(four)"
   ]
  },
  {
   "cell_type": "code",
   "execution_count": null,
   "metadata": {
    "ExecuteTime": {
     "end_time": "2022-09-04T05:40:42.304009Z",
     "start_time": "2022-09-04T05:40:42.286010Z"
    }
   },
   "outputs": [],
   "source": [
    "type(three)"
   ]
  },
  {
   "cell_type": "markdown",
   "metadata": {},
   "source": [
    "## E. Lists\n",
    "The next topic is particularly useful in the kind of data manipulation that you will see throughout this class. \n",
    "\n",
    "The following few cells will introduce the concept of __`lists`__ (and their counterpart, __`numpy arrays`__). Read through the following cell to understand the basic structure of a list. \n",
    "\n",
    "* A list is an __ordered collection of objects__. They allow us to store and access groups of variables and other objects for easy access and analysis. Check out this [documentation](https://www.tutorialspoint.com/python/python_lists.htm) for an in-depth look at the capabilities of lists.\n",
    "\n",
    "To **initialize a list**, you use **square brackets**. Putting objects separated by commas in between the brackets will add them to the list. "
   ]
  },
  {
   "cell_type": "code",
   "execution_count": null,
   "metadata": {
    "ExecuteTime": {
     "end_time": "2022-09-04T05:40:46.382888Z",
     "start_time": "2022-09-04T05:40:46.367882Z"
    }
   },
   "outputs": [],
   "source": [
    "# an empty list\n",
    "lst = []\n",
    "print(lst)"
   ]
  },
  {
   "cell_type": "code",
   "execution_count": null,
   "metadata": {
    "ExecuteTime": {
     "end_time": "2022-09-04T05:40:48.072329Z",
     "start_time": "2022-09-04T05:40:48.062321Z"
    }
   },
   "outputs": [],
   "source": [
    "# reassigning our empty list to a new list\n",
    "lst = [1, 3, 6, 'lists', 'are' 'fun', 4]\n",
    "print(lst)"
   ]
  },
  {
   "cell_type": "code",
   "execution_count": null,
   "metadata": {
    "ExecuteTime": {
     "end_time": "2022-09-04T05:40:48.861211Z",
     "start_time": "2022-09-04T05:40:48.851210Z"
    }
   },
   "outputs": [],
   "source": [
    "#lists in python are zero-indexed so the indices for lst are 0,1,2,3,4,5 and 6\n",
    "example = lst[2]\n",
    "print(example)"
   ]
  },
  {
   "cell_type": "code",
   "execution_count": null,
   "metadata": {
    "ExecuteTime": {
     "end_time": "2022-09-04T05:40:50.298710Z",
     "start_time": "2022-09-04T05:40:50.283713Z"
    }
   },
   "outputs": [],
   "source": [
    "#list slicing: This line will store the first (inclusive) through fourth (exclusive) elements of lst as a new list \n",
    "#called lst_2:\n",
    "lst_2 = lst[1:4]\n",
    "lst_2"
   ]
  },
  {
   "cell_type": "markdown",
   "metadata": {},
   "source": [
    "It is important to note that when you store a list to a variable, you are actually storing the **pointer** to the list. That means if you assign your list to another variable, and you change the elements in your other variable, then you are changing the same data as in the original list. "
   ]
  },
  {
   "cell_type": "code",
   "execution_count": null,
   "metadata": {
    "ExecuteTime": {
     "end_time": "2022-09-04T05:40:51.193099Z",
     "start_time": "2022-09-04T05:40:51.185078Z"
    }
   },
   "outputs": [],
   "source": [
    "a = [1,2,3] #original list\n",
    "b = a #b now points to list a "
   ]
  },
  {
   "cell_type": "code",
   "execution_count": null,
   "metadata": {
    "ExecuteTime": {
     "end_time": "2022-09-04T05:40:51.892819Z",
     "start_time": "2022-09-04T05:40:51.885813Z"
    }
   },
   "outputs": [],
   "source": [
    "# change first element in list \"b\" to \"4\"\n",
    "b[0] = 4 "
   ]
  },
  {
   "cell_type": "code",
   "execution_count": null,
   "metadata": {
    "ExecuteTime": {
     "end_time": "2022-09-04T05:40:52.596642Z",
     "start_time": "2022-09-04T05:40:52.586619Z"
    }
   },
   "outputs": [],
   "source": [
    "# print first elemtn of allegedly non-modified list \"a\"\n",
    "print(a[0])  "
   ]
  },
  {
   "cell_type": "markdown",
   "metadata": {},
   "source": [
    "As you can see, even though we modified list \"b\", our list \"a\" return 4 since we modified the first element of the list pointed to by \"a\" and \"b\""
   ]
  },
  {
   "cell_type": "markdown",
   "metadata": {},
   "source": [
    "### Question 2: Lists\n",
    "Build a list of length 10 containing whatever elements you'd like. Then, slice it into a new list of length five using a index slicing. Finally, assign the last element in your sliced list to the given variable and print it."
   ]
  },
  {
   "cell_type": "code",
   "execution_count": null,
   "metadata": {
    "ExecuteTime": {
     "end_time": "2022-09-04T05:41:00.013230Z",
     "start_time": "2022-09-04T05:41:00.009230Z"
    },
    "scrolled": true
   },
   "outputs": [],
   "source": [
    "### Fill in the ellipses to complete the question.\n",
    "..."
   ]
  },
  {
   "cell_type": "markdown",
   "metadata": {},
   "source": [
    "Lists can also be operated on with a few built-in analysis functions. These include __`min`__ and __`max`__, among others. \n",
    "\n",
    "Lists can also be __concatenated__ together. \n",
    "\n",
    "Find some examples below."
   ]
  },
  {
   "cell_type": "code",
   "execution_count": null,
   "metadata": {
    "ExecuteTime": {
     "end_time": "2022-09-04T05:41:01.494770Z",
     "start_time": "2022-09-04T05:41:01.481774Z"
    }
   },
   "outputs": [],
   "source": [
    "# A list containing six integers.\n",
    "a_list = [1, 6, 4, 8, 13, 2]"
   ]
  },
  {
   "cell_type": "code",
   "execution_count": null,
   "metadata": {
    "ExecuteTime": {
     "end_time": "2022-09-04T05:41:02.156102Z",
     "start_time": "2022-09-04T05:41:02.139093Z"
    }
   },
   "outputs": [],
   "source": [
    "# Another list containing six integers.\n",
    "b_list = [4, 5, 2, 14, 9, 11]"
   ]
  },
  {
   "cell_type": "code",
   "execution_count": null,
   "metadata": {
    "ExecuteTime": {
     "end_time": "2022-09-04T05:41:03.219438Z",
     "start_time": "2022-09-04T05:41:03.215449Z"
    }
   },
   "outputs": [],
   "source": [
    "print('Max of a_list:', max(a_list))\n",
    "print('Min of b_list:', min(a_list))"
   ]
  },
  {
   "cell_type": "code",
   "execution_count": null,
   "metadata": {
    "ExecuteTime": {
     "end_time": "2022-09-04T05:41:04.269390Z",
     "start_time": "2022-09-04T05:41:04.256376Z"
    }
   },
   "outputs": [],
   "source": [
    "# Concatenate a_list and b_list:\n",
    "c_list = a_list + b_list\n",
    "print('Concatenated:', c_list)"
   ]
  },
  {
   "cell_type": "markdown",
   "metadata": {},
   "source": [
    "## F. Numpy Arrays \n",
    "Closely related to the concept of a list is the __array__, which is a __nested sequence of elements that is structurally identical to a list__. \n",
    "\n",
    "Arrays, however, can be operated on arithmetically with much more versatility than regular lists. This means that __numpy arrays__ can be __faster__ than python lists. Although this difference is not important when working with small lists, when sizes of lists gets bigger, this difference becomes important.\n",
    "\n",
    "For the purpose of data manipulation, we'll access arrays through [Numpy](https://docs.scipy.org/doc/numpy/reference/routines.html), which will require an __import statement__.\n",
    "\n",
    "Note: It's generally good practice to consult these documentations for reference and help with code.\n",
    "\n",
    "* Numpy Basics: https://numpy.org/doc/stable/user/absolute_beginners.html\n",
    "\n",
    "* Data 8 Numpy manuplation guide: http://data8.org/su22/python-reference.html\n",
    "\n",
    "Now run the next cell to import the numpy library into your notebook, and examine how numpy arrays can be used."
   ]
  },
  {
   "cell_type": "code",
   "execution_count": null,
   "metadata": {
    "ExecuteTime": {
     "end_time": "2022-09-04T05:41:32.852110Z",
     "start_time": "2022-09-04T05:41:32.837100Z"
    }
   },
   "outputs": [],
   "source": [
    "import numpy as np"
   ]
  },
  {
   "cell_type": "code",
   "execution_count": null,
   "metadata": {
    "ExecuteTime": {
     "end_time": "2022-09-04T05:41:35.808748Z",
     "start_time": "2022-09-04T05:41:35.799776Z"
    }
   },
   "outputs": [],
   "source": [
    "# Initialize an array of integers 0 through 9.\n",
    "example_array = np.array([0, 1, 2, 3, 4, 5, 6, 7, 8, 9])"
   ]
  },
  {
   "cell_type": "code",
   "execution_count": null,
   "metadata": {
    "ExecuteTime": {
     "end_time": "2022-09-04T05:41:36.514952Z",
     "start_time": "2022-09-04T05:41:36.495946Z"
    }
   },
   "outputs": [],
   "source": [
    "# This can also be accomplished using np.arange\n",
    "example_array_2 = np.arange(10)\n",
    "print('Undoubled Array:', example_array_2)"
   ]
  },
  {
   "cell_type": "code",
   "execution_count": null,
   "metadata": {
    "ExecuteTime": {
     "end_time": "2022-09-04T05:41:37.645596Z",
     "start_time": "2022-09-04T05:41:37.641602Z"
    }
   },
   "outputs": [],
   "source": [
    "# Double the values in example_array and print the new array.\n",
    "double_array = example_array * 2\n",
    "print('Doubled Array:', double_array)"
   ]
  },
  {
   "cell_type": "markdown",
   "metadata": {},
   "source": [
    "This behavior differs from that of a list. See below what happens if you multiply a list."
   ]
  },
  {
   "cell_type": "code",
   "execution_count": null,
   "metadata": {
    "ExecuteTime": {
     "end_time": "2022-09-04T05:41:38.899132Z",
     "start_time": "2022-09-04T05:41:38.882135Z"
    }
   },
   "outputs": [],
   "source": [
    "example_list = [1, 2, 3, 4, 5, 6, 7, 8, 9]\n",
    "example_list * 2"
   ]
  },
  {
   "cell_type": "markdown",
   "metadata": {},
   "source": [
    "Notice that instead of multiplying each of the elements by two, multiplying a list and a number returns that many copies of that list. This is the reason that we will sometimes use Numpy over lists. Other mathematical operations have interesting behaviors with lists that you should explore on your own. "
   ]
  },
  {
   "cell_type": "markdown",
   "metadata": {},
   "source": [
    "## G. Looping\n",
    "[__`Loops`__](https://www.tutorialspoint.com/python/python_loops.htm) are often useful in manipulating, iterating over, or transforming large lists and arrays. \n",
    "\n",
    "The first type we will discuss is the __`for loop`__. For loops are helpful in **traversing a list** and **performing an action on each element**.\n",
    "\n",
    "For example, the following code moves through every element in `example_array`, adds it to the previous element in `example_array`, and copies this sum to a new array. \n",
    "\n",
    "It's important to note that `\"element\"` is an **arbitrary** variable name used to represent whichever index value the loop is currently operating on. We can change the variable name to whatever we want and achieve the same result, as long as we stay consistent."
   ]
  },
  {
   "cell_type": "code",
   "execution_count": null,
   "metadata": {
    "ExecuteTime": {
     "end_time": "2022-09-04T05:41:42.457710Z",
     "start_time": "2022-09-04T05:41:42.448585Z"
    }
   },
   "outputs": [],
   "source": [
    "new_list = []"
   ]
  },
  {
   "cell_type": "code",
   "execution_count": null,
   "metadata": {
    "ExecuteTime": {
     "end_time": "2022-09-04T05:41:43.230016Z",
     "start_time": "2022-09-04T05:41:43.224027Z"
    }
   },
   "outputs": [],
   "source": [
    "for element in example_array:    # for every element in a list - ie how many times we perform the action below\n",
    "    new_element = element + 5    # action to perform - add 5\n",
    "    new_list.append(new_element) # append this \"new element\" to \"new list\"\n",
    "\n",
    "print(new_list)"
   ]
  },
  {
   "cell_type": "code",
   "execution_count": null,
   "metadata": {
    "ExecuteTime": {
     "end_time": "2022-09-04T05:41:44.811490Z",
     "start_time": "2022-09-04T05:41:44.792470Z"
    }
   },
   "outputs": [],
   "source": [
    "#iterate using list indices rather than elements themselves\n",
    "for i in range(len(example_array)):\n",
    "    example_array[i] = example_array[i] + 5\n",
    "\n",
    "example_array"
   ]
  },
  {
   "cell_type": "code",
   "execution_count": null,
   "metadata": {},
   "outputs": [],
   "source": []
  },
  {
   "cell_type": "markdown",
   "metadata": {},
   "source": [
    "## Other types of loops - while loop\n",
    "The __while loop__ repeatedly performs operations until a conditional is no longer satisfied. A conditional is a [boolean expression](https://en.wikipedia.org/wiki/Boolean_expression), that is an expression that evaluates to `True` or `False`. \n",
    "\n",
    "What makes a while loop different from a for loop is that a for loop ends after a fixed number of iterations, whereas a while loop ends when a True or False condition is met. **Many times, for loops are sufficient for most tasks, at least in my experience.**\n",
    "\n",
    "In the below example, an array of integers 0 to 9 is generated. When the program enters the while loop on the subsequent line, it notices that the maximum value of the array is less than 50. Because of this, it adds 1 to the fifth element, as instructed. Once the instructions embedded in the loop are complete, the program refers back to the conditional. Again, the maximum value is less than 50. This process repeats until the the fifth element, now the maximum value of the array, is equal to 50, at which point the conditional is no longer true and the loop breaks."
   ]
  },
  {
   "cell_type": "code",
   "execution_count": null,
   "metadata": {
    "ExecuteTime": {
     "end_time": "2022-09-04T05:41:48.085677Z",
     "start_time": "2022-09-04T05:41:48.073658Z"
    }
   },
   "outputs": [],
   "source": [
    "while_array = np.arange(10)        # Generate our array of values\n",
    "\n",
    "print('Before:', while_array)"
   ]
  },
  {
   "cell_type": "code",
   "execution_count": null,
   "metadata": {
    "ExecuteTime": {
     "end_time": "2022-09-04T05:41:49.247708Z",
     "start_time": "2022-09-04T05:41:49.236689Z"
    }
   },
   "outputs": [],
   "source": [
    "while(max(while_array) < 50):      # Set our conditional\n",
    "    while_array[4] += 1            # Add 1 to the fifth element if the conditional is satisfied \n",
    "    \n",
    "print('After:', while_array)"
   ]
  },
  {
   "cell_type": "markdown",
   "metadata": {},
   "source": [
    "### **Question 3** - For loops\n",
    "Print every letter of the string below:"
   ]
  },
  {
   "cell_type": "code",
   "execution_count": null,
   "metadata": {
    "ExecuteTime": {
     "end_time": "2022-09-04T05:41:56.610258Z",
     "start_time": "2022-09-04T05:41:56.593246Z"
    }
   },
   "outputs": [],
   "source": [
    "string = \"Goodbye World\"\n",
    "string"
   ]
  },
  {
   "cell_type": "code",
   "execution_count": null,
   "metadata": {
    "ExecuteTime": {
     "end_time": "2022-09-04T05:41:58.302055Z",
     "start_time": "2022-09-04T05:41:58.292050Z"
    }
   },
   "outputs": [],
   "source": [
    "for letter in string: \n",
    "    print(letter)    "
   ]
  },
  {
   "cell_type": "markdown",
   "metadata": {},
   "source": [
    "Create a new list called \"do_people_like_newman\". Add to every string in the `seinfeld` list below the string \"dislikes Newman\". Store your new strings in the new \"newman\" list"
   ]
  },
  {
   "cell_type": "code",
   "execution_count": null,
   "metadata": {
    "ExecuteTime": {
     "end_time": "2022-09-04T05:42:02.987931Z",
     "start_time": "2022-09-04T05:42:02.977927Z"
    }
   },
   "outputs": [],
   "source": [
    "seinfeld = ['Jerry', 'Elaine', 'Kramer', 'Costanza']\n",
    "seinfeld"
   ]
  },
  {
   "cell_type": "code",
   "execution_count": null,
   "metadata": {
    "ExecuteTime": {
     "end_time": "2022-09-04T05:42:04.023901Z",
     "start_time": "2022-09-04T05:42:04.009900Z"
    }
   },
   "outputs": [],
   "source": [
    "do_people_like_newman = []\n",
    "\n",
    "for character in seinfeld: \n",
    "    character = character + \" dislikes Newman\"\n",
    "    do_people_like_newman .append(character)\n",
    "    \n"
   ]
  },
  {
   "cell_type": "code",
   "execution_count": null,
   "metadata": {
    "ExecuteTime": {
     "end_time": "2022-09-04T05:42:05.220055Z",
     "start_time": "2022-09-04T05:42:05.211055Z"
    }
   },
   "outputs": [],
   "source": [
    "do_people_like_newman"
   ]
  },
  {
   "cell_type": "markdown",
   "metadata": {},
   "source": [
    "## H. Dictionaries\n",
    "The [__`dictionary`__](https://docs.python.org/3/tutorial/datastructures.html#dictionaries) data structure is a collection of **\"key-value\"** pairs. Sometimes dictionaries are referred to as \"maps\" or \"associative arrays\". \n",
    "\n",
    "\n",
    "```\n",
    "Dictionary = { key1 : value1 , \n",
    "               key2 : value2 , \n",
    "               key3 : value3 }\n",
    "```\n",
    "\n",
    "You might notice that unlike lists that use `[]`, dictionaries are initialized with a `{}` - also known as **squigly brackets** - and inside these brackets we have the  **key : value** pair. Each key-value pair is separated by a comma. Unlike lists, dictionaries are indexable by their \"keys.\" \n",
    "\n",
    "\n",
    "For example if we wanted to create dictionary called \"states\" where:\n",
    "* the __key__ is the __name of the state__ \n",
    "* the __value__ is the __state abbreviation__.\n",
    "\n",
    "\n",
    "we would use the following code:"
   ]
  },
  {
   "cell_type": "code",
   "execution_count": null,
   "metadata": {
    "ExecuteTime": {
     "end_time": "2022-09-04T05:42:08.219999Z",
     "start_time": "2022-09-04T05:42:08.215992Z"
    }
   },
   "outputs": [],
   "source": [
    "states = {\"California\" : 'CA',\n",
    "               \"Idaho\" : 'ID',\n",
    "              \"Nevada\" : 'NV'}\n",
    "\n",
    "print(states)"
   ]
  },
  {
   "cell_type": "markdown",
   "metadata": {},
   "source": [
    "We can **access** the abbreviations (values) by indexing into the dictionary with brackets and the key value.\n",
    "\n",
    "Note that in a list, we primarily index based on numbers. Here, we can use the key - which is a string. Thus, dictionaries can be more intuitive."
   ]
  },
  {
   "cell_type": "markdown",
   "metadata": {},
   "source": [
    "For example, if you want to return **`VALUE`** associated with **`KEY`**, you would do the following:\n",
    "\n",
    "```\n",
    "example_dict[KEY]\n",
    "```\n",
    "\n",
    "This would return **`VALUE`**."
   ]
  },
  {
   "cell_type": "markdown",
   "metadata": {},
   "source": [
    "### **Question 4** - Dictionaries\n",
    "How would you return the abbreviation for California using the states dictionary above? Assign `result` to this expression."
   ]
  },
  {
   "cell_type": "code",
   "execution_count": null,
   "metadata": {
    "ExecuteTime": {
     "end_time": "2022-09-04T05:42:11.156680Z",
     "start_time": "2022-09-04T05:42:11.141659Z"
    }
   },
   "outputs": [],
   "source": [
    "# Using the states dictionary above, assign result to 'CA' by replacing the ellipses\n",
    "result = states[\"California\"]\n",
    "result"
   ]
  },
  {
   "cell_type": "markdown",
   "metadata": {},
   "source": [
    "Just like an actual dictionary, each \"key\" can store  multiple objects  - which is what makes dictionaries very useful. Again, unlike a list, we don't need to know the position of an element in a list - we can just \"call\" it via \"keys\". \n",
    "\n",
    "               "
   ]
  },
  {
   "cell_type": "markdown",
   "metadata": {},
   "source": [
    "In the example below, the word park **park** is used as a key to store a **list** of its definitions."
   ]
  },
  {
   "cell_type": "code",
   "execution_count": null,
   "metadata": {
    "ExecuteTime": {
     "end_time": "2022-09-04T05:42:16.158116Z",
     "start_time": "2022-09-04T05:42:16.154113Z"
    }
   },
   "outputs": [],
   "source": [
    "dictionary = {'parity': 'the quality or state of being equal or equivalent',\n",
    "              'park' : [\"a large public green area in a town, used for recreation\" , \n",
    "                         \"bring (a vehicle that one is driving) to a halt and leave it temporarily\"]\n",
    "              }\n",
    "             "
   ]
  },
  {
   "cell_type": "markdown",
   "metadata": {},
   "source": [
    "How would you return the second definition of the word \"park\" from the dictionary above?"
   ]
  },
  {
   "cell_type": "code",
   "execution_count": null,
   "metadata": {
    "ExecuteTime": {
     "end_time": "2022-09-04T05:42:20.949223Z",
     "start_time": "2022-09-04T05:42:20.936231Z"
    }
   },
   "outputs": [],
   "source": [
    "## Write your code below\n",
    "..."
   ]
  },
  {
   "cell_type": "markdown",
   "metadata": {},
   "source": [
    "## I. Functions\n",
    "Functions are useful when you want to repeat a series of steps on multiple different objects, but don't want to type out the steps over and over again. Many functions are built into Python already; for example, you've already made use of `len()` to retrieve the number of elements in a list. You can also write your own functions, and at this point you already have the skills to do so.\n",
    "\n",
    "\n",
    "Functions generally take a set of __parameters__ (also called inputs), which define the objects they will use when they are run. For example, the `len()` function takes a list or array as its parameter, and returns the length of that list.\n"
   ]
  },
  {
   "cell_type": "markdown",
   "metadata": {},
   "source": [
    "Let's make our first function **\"take_five\"** which will subtract 5 from a number. \n",
    "\n",
    "It will have only one input, which is the number we want to take 5 from."
   ]
  },
  {
   "cell_type": "code",
   "execution_count": null,
   "metadata": {
    "ExecuteTime": {
     "end_time": "2022-09-04T05:47:14.807951Z",
     "start_time": "2022-09-04T05:47:14.794955Z"
    }
   },
   "outputs": [],
   "source": [
    "def take_five(number):\n",
    "    output = number - 5\n",
    "    return output"
   ]
  },
  {
   "cell_type": "code",
   "execution_count": null,
   "metadata": {
    "ExecuteTime": {
     "end_time": "2022-09-04T05:47:15.895042Z",
     "start_time": "2022-09-04T05:47:15.888048Z"
    }
   },
   "outputs": [],
   "source": [
    "take_five(100)"
   ]
  },
  {
   "cell_type": "markdown",
   "metadata": {},
   "source": [
    "Let's look at a more complicated function that takes two parameters, compares them somehow, and then returns a boolean value (`True` or `False`) depending on the comparison. The `is_multiple` function below takes as parameters an integer `m` and an integer `n`, checks if `m` is a multiple of `n`, and returns `True` if it is. Otherwise, it returns `False`. \n",
    "\n",
    "`if` statements, just like `while` loops, are dependent on boolean expressions. If the conditional is `True`, then the following indented code block will be executed. If the conditional evaluates to `False`, then the code block will be skipped over. Read more about `if` statements [here](https://www.tutorialspoint.com/python/python_if_else.htm).\n",
    "\n",
    "Below, we will use the modulus operator `%`. \n",
    "* Typing `x % y` will return the remainder when `y` is divided by `x`. \n",
    "* Therefore, (`x % y == 0`) will return `True` when `y` divides `x` with remainder `0`"
   ]
  },
  {
   "cell_type": "code",
   "execution_count": null,
   "metadata": {
    "ExecuteTime": {
     "end_time": "2022-09-04T05:48:14.316850Z",
     "start_time": "2022-09-04T05:48:14.308862Z"
    }
   },
   "outputs": [],
   "source": [
    "def is_multiple(m, n):\n",
    "    if (m % n == 0): \n",
    "        return True\n",
    "    else:\n",
    "        return False"
   ]
  },
  {
   "cell_type": "code",
   "execution_count": null,
   "metadata": {
    "ExecuteTime": {
     "end_time": "2022-09-04T05:48:14.678955Z",
     "start_time": "2022-09-04T05:48:14.662956Z"
    }
   },
   "outputs": [],
   "source": [
    "is_multiple(12, 4)"
   ]
  },
  {
   "cell_type": "code",
   "execution_count": null,
   "metadata": {
    "ExecuteTime": {
     "end_time": "2022-09-04T05:48:15.543044Z",
     "start_time": "2022-09-04T05:48:15.525924Z"
    }
   },
   "outputs": [],
   "source": [
    "is_multiple(12, 7)"
   ]
  },
  {
   "cell_type": "markdown",
   "metadata": {},
   "source": [
    "## Review\n",
    "To sum up:\n",
    "\n",
    "* Variables - which are \"names\" used for storing objects in python\n",
    "* Basic data structures - `strings`, `lists`, `integers`, `dictionaries`, etc\n",
    "* Data can be manipulated at scale using loops\n",
    "* There are also functions, which can be called. They usually require parameters as inputs. "
   ]
  },
  {
   "cell_type": "markdown",
   "metadata": {},
   "source": [
    "-----------------------\n",
    "# **Part 3 - Introduction to Pandas**"
   ]
  },
  {
   "cell_type": "markdown",
   "metadata": {},
   "source": [
    "For this course, we'll be working extensively with the [__`Pandas`__](https://pandas.pydata.org/docs/getting_started/intro_tutorials/01_table_oriented.html) package. This is an incredibly powerful tool that is used for examining, creating, and manipulating **Tabular Data** - think excel spreadsheets with \"rows\" and \"columns.\"\n",
    "\n",
    "Let's import pandas below (again, don't forget that documentations for packages can be important if you want to understand what's going on behind the scenes- simply Googling can be helpful):"
   ]
  },
  {
   "cell_type": "code",
   "execution_count": null,
   "metadata": {
    "ExecuteTime": {
     "end_time": "2022-09-04T05:48:20.720488Z",
     "start_time": "2022-09-04T05:48:20.403438Z"
    }
   },
   "outputs": [],
   "source": [
    "import pandas as pd"
   ]
  },
  {
   "cell_type": "markdown",
   "metadata": {},
   "source": [
    "## Creating a Pandas Dataframe\n",
    "\n",
    "\n",
    "Let's make our own DataFrame from scratch without having to import data from another file. Let's say we have two arrays (or lists), one with a list of fruits, and another with a list of their prices. Then, we can create a new `DataFrame` with each of these arrays as columns by setting the argument `data` in `pd.DataFrame()` to a **dictionary** of these columns:\n"
   ]
  },
  {
   "cell_type": "code",
   "execution_count": null,
   "metadata": {
    "ExecuteTime": {
     "end_time": "2022-09-04T05:48:22.260493Z",
     "start_time": "2022-09-04T05:48:22.235504Z"
    }
   },
   "outputs": [],
   "source": [
    "fruit_names = ['Apple', 'Orange', 'Banana']\n",
    "fruit_prices = [1, 0.75, 0.5]\n",
    "\n",
    "fruit_table = pd.DataFrame(data = {\n",
    "     \"Fruit\"    : fruit_names,\n",
    "     \"Price ($)\": fruit_prices})\n",
    "\n",
    "fruit_table"
   ]
  },
  {
   "cell_type": "markdown",
   "metadata": {},
   "source": [
    "As you can see, the pandas **`DataFrame`** method uses a **dictionary** of pairs of column labels and its corresponding arrays (lists), and creates a new DataFrame with each array as a column of the DataFrame. Finally, to create a new dataframe (with no columns or rows), we simply write:To create a new dataframe (with no columns or rows), we simply write:"
   ]
  },
  {
   "cell_type": "code",
   "execution_count": null,
   "metadata": {
    "ExecuteTime": {
     "end_time": "2022-09-04T05:48:24.006928Z",
     "start_time": "2022-09-04T05:48:23.989918Z"
    }
   },
   "outputs": [],
   "source": [
    "empty_table = pd.DataFrame()\n",
    "empty_table"
   ]
  },
  {
   "cell_type": "markdown",
   "metadata": {
    "ExecuteTime": {
     "end_time": "2022-09-01T05:47:44.004753Z",
     "start_time": "2022-09-01T05:47:43.988744Z"
    }
   },
   "source": [
    "We typically start off with empty tables when we need to add rows inside for loops, which we'll see later."
   ]
  },
  {
   "cell_type": "markdown",
   "metadata": {},
   "source": [
    "## Importing data from file using Pandas"
   ]
  },
  {
   "cell_type": "markdown",
   "metadata": {},
   "source": [
    "We will use the \"california_housing_train\" data, which contains the median house prices for California Districts derived from the 1990 census.\n",
    "\n",
    "\n",
    "To create this table, we will draw the data from the path `data/`, stored in a file called `california_housing_train.csv`. In general, to import data from a `.csv` file, we write **`pd.read_csv(\"file_path_&_name\")`.** Information in `.csv`'s are separated by commas, and are what are typically used with the `pandas` package. "
   ]
  },
  {
   "cell_type": "code",
   "execution_count": null,
   "metadata": {
    "ExecuteTime": {
     "end_time": "2022-09-04T05:48:29.653890Z",
     "start_time": "2022-09-04T05:48:29.631894Z"
    },
    "scrolled": false
   },
   "outputs": [],
   "source": [
    "california_housing = pd.read_csv(\"data/california_housing_train.csv\")\n"
   ]
  },
  {
   "cell_type": "markdown",
   "metadata": {},
   "source": [
    "Now that we have loaded in our DataFrames we want see our new table. Here are a few useful methods to see our table. \n",
    "\n",
    "* We can use the **`head()`** function to see the first 5 rows of our table. Alternatively we can use the **`tail()`** to see the last 5 rows of our table. \n",
    "* The **shape** method returns a tuple where the first item is the number of rows and the second is the number columns in the table. \n",
    "\n",
    "```\n",
    "df.head()\n",
    "df.tail()\n",
    "df.shape\n",
    "```\n",
    "\n",
    "* Now that we know what are table looks like and the shape of it, we can use the **`describe()`** function to see basic summary statistics from our table. \n",
    "\n",
    "```\n",
    "df.describe()\n",
    "```"
   ]
  },
  {
   "cell_type": "code",
   "execution_count": null,
   "metadata": {
    "ExecuteTime": {
     "end_time": "2022-09-04T05:48:34.593220Z",
     "start_time": "2022-09-04T05:48:34.577220Z"
    }
   },
   "outputs": [],
   "source": [
    "# Show first 5 rows of our data\n",
    "california_housing.head()"
   ]
  },
  {
   "cell_type": "code",
   "execution_count": null,
   "metadata": {
    "ExecuteTime": {
     "end_time": "2022-09-04T05:48:36.046545Z",
     "start_time": "2022-09-04T05:48:36.036542Z"
    }
   },
   "outputs": [],
   "source": [
    "# Show last 5 rows of our data\n",
    "california_housing.tail()"
   ]
  },
  {
   "cell_type": "code",
   "execution_count": null,
   "metadata": {
    "ExecuteTime": {
     "end_time": "2022-09-04T05:48:37.838290Z",
     "start_time": "2022-09-04T05:48:37.824270Z"
    }
   },
   "outputs": [],
   "source": [
    "california_housing.shape"
   ]
  },
  {
   "cell_type": "code",
   "execution_count": null,
   "metadata": {
    "ExecuteTime": {
     "end_time": "2022-09-04T05:48:55.422307Z",
     "start_time": "2022-09-04T05:48:55.410323Z"
    }
   },
   "outputs": [],
   "source": [
    "rows = california_housing.shape[0] \n",
    "columns = california_housing.shape[1]\n",
    "print(\"The number of rows is: \" + str(rows), \n",
    "      \"The number of columns is: \" + str(columns))"
   ]
  },
  {
   "cell_type": "code",
   "execution_count": null,
   "metadata": {
    "ExecuteTime": {
     "end_time": "2022-09-04T05:48:56.716260Z",
     "start_time": "2022-09-04T05:48:56.678245Z"
    }
   },
   "outputs": [],
   "source": [
    "california_housing.describe()"
   ]
  },
  {
   "cell_type": "markdown",
   "metadata": {},
   "source": [
    "### Renaming columns"
   ]
  },
  {
   "cell_type": "markdown",
   "metadata": {},
   "source": [
    "To rename  columns we can use the rename method for pandas dataframes. You can find the documentation for this method method [here](https://pandas.pydata.org/pandas-docs/stable/generated/pandas.DataFrame.rename.html)."
   ]
  },
  {
   "cell_type": "code",
   "execution_count": null,
   "metadata": {
    "ExecuteTime": {
     "end_time": "2022-09-04T05:49:12.442585Z",
     "start_time": "2022-09-04T05:49:12.434594Z"
    }
   },
   "outputs": [],
   "source": [
    "new_names = {\n",
    "    \"longitude\": \"LONG\",\n",
    "    \"latitude\": \"LAT\"}"
   ]
  },
  {
   "cell_type": "code",
   "execution_count": null,
   "metadata": {
    "ExecuteTime": {
     "end_time": "2022-09-04T05:49:13.506973Z",
     "start_time": "2022-09-04T05:49:13.488958Z"
    }
   },
   "outputs": [],
   "source": [
    "california = california_housing.rename(index = str, \n",
    "                                       columns = new_names)\n",
    "california.head()"
   ]
  },
  {
   "cell_type": "markdown",
   "metadata": {
    "ExecuteTime": {
     "end_time": "2022-09-01T05:36:51.095819Z",
     "start_time": "2022-09-01T05:36:51.080185Z"
    }
   },
   "source": [
    "## Accessing Values"
   ]
  },
  {
   "cell_type": "markdown",
   "metadata": {
    "ExecuteTime": {
     "end_time": "2022-09-01T05:37:07.453240Z",
     "start_time": "2022-09-01T05:37:07.437603Z"
    }
   },
   "source": [
    "Often, it is useful to access only the rows, columns, or values related to our analysis. We'll look at several ways to cut down our table into smaller, more digestible parts.\n",
    "\n",
    "Let's say we wanted to grab only the first _three_ rows of this DataFrame. We can do this by using the **`loc`** function; it takes in a list or range of numbers, and creates a new DataFrame with rows from the original DataFrame whose indices are given in the array or range. Remember that in Python, indices start at 0! Below are a few examples:"
   ]
  },
  {
   "cell_type": "code",
   "execution_count": null,
   "metadata": {
    "ExecuteTime": {
     "end_time": "2022-09-04T05:49:15.404835Z",
     "start_time": "2022-09-04T05:49:15.381846Z"
    }
   },
   "outputs": [],
   "source": [
    "california.iloc[[1, 3, 5]] # Takes rows with indices 1, 3, and 5 (the 2nd, 4th, and 6th rows)"
   ]
  },
  {
   "cell_type": "code",
   "execution_count": null,
   "metadata": {
    "ExecuteTime": {
     "end_time": "2022-09-04T05:49:16.645659Z",
     "start_time": "2022-09-04T05:49:16.624626Z"
    }
   },
   "outputs": [],
   "source": [
    "california.iloc[[7]] # Takes the row with index 7 (8th row)"
   ]
  },
  {
   "cell_type": "code",
   "execution_count": null,
   "metadata": {
    "ExecuteTime": {
     "end_time": "2022-09-04T05:49:18.425166Z",
     "start_time": "2022-09-04T05:49:18.403169Z"
    }
   },
   "outputs": [],
   "source": [
    "california.iloc[np.arange(7)] # Takes the row with indices 0, 1, ... 6"
   ]
  },
  {
   "cell_type": "markdown",
   "metadata": {
    "ExecuteTime": {
     "end_time": "2022-09-01T05:37:36.851636Z",
     "start_time": "2022-09-01T05:37:36.835567Z"
    }
   },
   "source": [
    "Similarly, we can also choose to display certain columns of the DataFrame. There are two methods to accomplish this, and both methods take in lists of either column indices or column labels:\n",
    "- Insert the names of the columns as a list in the DataFrame\n",
    "- The **`drop`** method creates a new DataFrame with all columns _except_ those indicated by the parameters (i.e. the parameters are dropped).\n",
    "\n",
    "Some examples:"
   ]
  },
  {
   "cell_type": "code",
   "execution_count": null,
   "metadata": {
    "ExecuteTime": {
     "end_time": "2022-09-04T05:49:21.041713Z",
     "start_time": "2022-09-04T05:49:21.019708Z"
    }
   },
   "outputs": [],
   "source": [
    "california.loc[:, [\"housing_median_age\", \"total_rooms\"]].head() # Selects only \"housing_median_age\" and \"total_rooms\" columns"
   ]
  },
  {
   "cell_type": "code",
   "execution_count": null,
   "metadata": {
    "ExecuteTime": {
     "end_time": "2022-09-04T05:49:24.280792Z",
     "start_time": "2022-09-04T05:49:24.265783Z"
    }
   },
   "outputs": [],
   "source": [
    "california[['median_income','population']] # select only these two columns"
   ]
  },
  {
   "cell_type": "code",
   "execution_count": null,
   "metadata": {
    "ExecuteTime": {
     "end_time": "2022-09-04T05:49:28.949473Z",
     "start_time": "2022-09-04T05:49:28.935476Z"
    }
   },
   "outputs": [],
   "source": [
    "california.drop(california.columns[[0, 1]], axis=1).head() # Drops the columns with indices 0 and 1"
   ]
  },
  {
   "cell_type": "code",
   "execution_count": null,
   "metadata": {
    "ExecuteTime": {
     "end_time": "2022-09-04T05:49:40.065036Z",
     "start_time": "2022-09-04T05:49:40.043002Z"
    }
   },
   "outputs": [],
   "source": [
    "california.iloc[[1,2,3,5], [3,5]] # Select only columns with indices 1 and 5, \n",
    "                                   # then only the rows with indices 1, 2, 3, 5"
   ]
  },
  {
   "cell_type": "markdown",
   "metadata": {},
   "source": [
    "If you want to select more than one column at a time and/or a certain number of rows you can use \n",
    "\n",
    "\n",
    "```\n",
    "df.loc(: , ['column_name' , 'column_name']) \n",
    "```\n",
    "\n",
    "where the first argument is the index you want and the second argument is the list of columns you want. \n",
    "\n",
    "The \" : \" after **`.loc(`**  is shorthand for **all**. This example gives you all the rows for the two columns. "
   ]
  },
  {
   "cell_type": "markdown",
   "metadata": {},
   "source": [
    "### Question 6 \n",
    "To make sure you understand the `loc`, `iloc`, and `drop` functions, try selecting the columns \"median_house_value\" to \"households\" with only the first 3 rows:"
   ]
  },
  {
   "cell_type": "code",
   "execution_count": null,
   "metadata": {
    "ExecuteTime": {
     "end_time": "2022-09-04T05:49:45.194250Z",
     "start_time": "2022-09-04T05:49:45.186250Z"
    }
   },
   "outputs": [],
   "source": [
    "# YOUR CODE HERE\n",
    "california.iloc[1:4, 4:10]\n"
   ]
  },
  {
   "cell_type": "markdown",
   "metadata": {},
   "source": [
    "Finally, the `loc` function in the DataFrame can be modified so instead of only choosing certain rows or columns you can give conditions for the selected columns or rows:\n",
    "- A column label\n",
    "- A condition that each row should match\n",
    "\n",
    "In other words, we call the select rows as so: `DataFrame_name.loc[DataFrame_name[\"column_name'] filter]`.\n",
    "\n",
    "\n",
    "Here are some examples of selection:\n",
    "\n",
    "The variable `median_house_value` indicates median house value in an area. The below query will find all rows (areas) of the house value is exactly 90000"
   ]
  },
  {
   "cell_type": "code",
   "execution_count": null,
   "metadata": {
    "ExecuteTime": {
     "end_time": "2022-09-04T05:49:47.058651Z",
     "start_time": "2022-09-04T05:49:47.037653Z"
    }
   },
   "outputs": [],
   "source": [
    "california.loc[california[\"median_house_value\"] == 90000]"
   ]
  },
  {
   "cell_type": "markdown",
   "metadata": {
    "ExecuteTime": {
     "end_time": "2022-09-01T06:04:31.436927Z",
     "start_time": "2022-09-01T06:04:31.432953Z"
    }
   },
   "source": [
    "The variable `population` corresponds to population in an area. With the following where statement, we'll find the variables where the population is between 1 and 100 (ie sparsely populated areas)."
   ]
  },
  {
   "cell_type": "code",
   "execution_count": null,
   "metadata": {
    "ExecuteTime": {
     "end_time": "2022-09-04T05:49:48.604318Z",
     "start_time": "2022-09-04T05:49:48.585315Z"
    }
   },
   "outputs": [],
   "source": [
    "df_population = california.loc[california[\"population\"].isin(np.arange(1, 100))]\n",
    "df_population"
   ]
  },
  {
   "cell_type": "markdown",
   "metadata": {},
   "source": [
    "## Sorting\n",
    "\n",
    "It can be very useful to sort our DataFrames according to some column. The `sort` function does exactly that; it takes the column that you want to sort by. By default, the `sort_values` function sorts the table in _ascending_ order of the data in the column indicated; however, you can change this by setting the optional parameter `ascending=False`.\n",
    "\n",
    "Recall that we created a `df_population` dataset above which contained areas with small population. Let's sort the values by the `median_house_value` column to see sparsely populated areas with expensive houses.   "
   ]
  },
  {
   "cell_type": "code",
   "execution_count": null,
   "metadata": {
    "ExecuteTime": {
     "end_time": "2022-09-04T05:50:04.655043Z",
     "start_time": "2022-09-04T05:50:04.633045Z"
    }
   },
   "outputs": [],
   "source": [
    "df_population.sort_values(by=['median_house_value'], \n",
    "                          ascending = False) # Sort table by value of property taken in ascending order"
   ]
  },
  {
   "cell_type": "markdown",
   "metadata": {},
   "source": [
    "Example: Only keep rows where population is above the average"
   ]
  },
  {
   "cell_type": "code",
   "execution_count": null,
   "metadata": {
    "ExecuteTime": {
     "end_time": "2022-09-04T05:50:10.800032Z",
     "start_time": "2022-09-04T05:50:10.784015Z"
    }
   },
   "outputs": [],
   "source": [
    "above_average = california[california[\"population\"] > np.mean(california[\"population\"])]\n",
    "above_average.head()"
   ]
  },
  {
   "cell_type": "markdown",
   "metadata": {},
   "source": [
    "## Removing NAs and Duplicates from the DataFrame\n",
    "Next we will cover dropping unwanted values and duplicate rows using **`dropna()`** and **`drop_duplicates()`** respectively. Both of these functions return a new DataFrame without changing the original by default. \n",
    "\n",
    "In order to store the new table you will have to **assign it to a variable**. This is generally the default behavior for most Pandas functions"
   ]
  },
  {
   "cell_type": "markdown",
   "metadata": {},
   "source": [
    "Let's go back to our small fruit tables dataframe:"
   ]
  },
  {
   "cell_type": "code",
   "execution_count": null,
   "metadata": {
    "ExecuteTime": {
     "end_time": "2022-09-04T05:50:22.408187Z",
     "start_time": "2022-09-04T05:50:22.388191Z"
    }
   },
   "outputs": [],
   "source": [
    "fruit_table"
   ]
  },
  {
   "cell_type": "code",
   "execution_count": null,
   "metadata": {
    "ExecuteTime": {
     "end_time": "2022-09-04T05:50:23.799865Z",
     "start_time": "2022-09-04T05:50:23.780854Z"
    }
   },
   "outputs": [],
   "source": [
    "fruit_table.loc[4] = np.nan ## insert NA\n",
    "fruit_table.loc[5] = fruit_table.loc[0] ## insert a duplicate"
   ]
  },
  {
   "cell_type": "code",
   "execution_count": null,
   "metadata": {
    "ExecuteTime": {
     "end_time": "2022-09-04T05:50:25.518790Z",
     "start_time": "2022-09-04T05:50:25.509803Z"
    },
    "scrolled": true
   },
   "outputs": [],
   "source": [
    "fruit_table"
   ]
  },
  {
   "cell_type": "code",
   "execution_count": null,
   "metadata": {
    "ExecuteTime": {
     "end_time": "2022-09-04T05:50:30.544551Z",
     "start_time": "2022-09-04T05:50:30.535569Z"
    }
   },
   "outputs": [],
   "source": [
    "new_fruit_df = fruit_table.drop_duplicates()\n",
    "new_fruit_df"
   ]
  },
  {
   "cell_type": "code",
   "execution_count": null,
   "metadata": {
    "ExecuteTime": {
     "end_time": "2022-09-04T05:50:31.993672Z",
     "start_time": "2022-09-04T05:50:31.985699Z"
    }
   },
   "outputs": [],
   "source": [
    "new_fruit_df = fruit_table.dropna()\n",
    "new_fruit_df"
   ]
  },
  {
   "cell_type": "markdown",
   "metadata": {},
   "source": [
    "### Manipulating data in columns\n",
    "One way to manipulate DataFrame tables is to use **`df['column name']`** to return one column of the table. \n",
    "\n",
    "In the example below we look at the **housing_median_age** column and use **`value_counts()`** to see how many times each unique value appears. Similarly, you can also apply other functions to columns. \n",
    "\n",
    "Adding new columns also uses this **`[\"column name\"]`** syntax. You can specify **`df[\"column name\"]`** and set it equal to the data you want to add. For example if you wanted to add a column of names with all upper case letters.\n",
    "```\n",
    "df[\"upper_case_names\"] = df[\"names\"].str.upper() \n",
    "```"
   ]
  },
  {
   "cell_type": "code",
   "execution_count": null,
   "metadata": {
    "ExecuteTime": {
     "end_time": "2022-09-04T05:50:35.492581Z",
     "start_time": "2022-09-04T05:50:35.477567Z"
    }
   },
   "outputs": [],
   "source": [
    "## this might give a warning - but is more intuitive\n",
    "new_fruit_df['Fruit'] = new_fruit_df['Fruit'].str.upper()"
   ]
  },
  {
   "cell_type": "code",
   "execution_count": null,
   "metadata": {
    "ExecuteTime": {
     "end_time": "2022-09-04T05:50:36.464919Z",
     "start_time": "2022-09-04T05:50:36.449904Z"
    }
   },
   "outputs": [],
   "source": [
    "new_fruit_df"
   ]
  },
  {
   "cell_type": "markdown",
   "metadata": {},
   "source": [
    "### Question 7\n",
    "Try lowercasing the Fruit column"
   ]
  },
  {
   "cell_type": "code",
   "execution_count": null,
   "metadata": {},
   "outputs": [],
   "source": []
  },
  {
   "cell_type": "markdown",
   "metadata": {},
   "source": [
    "# **Part 4 -  Simple Visualizations**"
   ]
  },
  {
   "cell_type": "markdown",
   "metadata": {},
   "source": [
    "## Histograms"
   ]
  },
  {
   "cell_type": "markdown",
   "metadata": {},
   "source": [
    "Histograms are a nifty way to display quantitative information. \n",
    "\n",
    "* The x-axis (horizontal axis) is typically a quantitative variable of interest \n",
    "* The y-axis (vertical axis) is generally a frequency. \n",
    "\n",
    "Plot a histogram of the \"median_house_value\", and then **experiment** with the **bins** parameter. \n",
    "\n",
    "**What do you see? Explain how the \"bins\" parameter influences the \"hist\" function**. What happens as you increase the number of bins, say, to 100?\n"
   ]
  },
  {
   "cell_type": "code",
   "execution_count": null,
   "metadata": {
    "ExecuteTime": {
     "end_time": "2022-09-04T05:50:41.828209Z",
     "start_time": "2022-09-04T05:50:41.423210Z"
    }
   },
   "outputs": [],
   "source": [
    "california.hist(\"median_house_value\", \n",
    "                grid = True,\n",
    "                bins = 10) "
   ]
  },
  {
   "cell_type": "code",
   "execution_count": null,
   "metadata": {
    "ExecuteTime": {
     "end_time": "2022-09-04T05:50:43.377218Z",
     "start_time": "2022-09-04T05:50:43.237209Z"
    },
    "scrolled": true
   },
   "outputs": [],
   "source": [
    "california.hist(\"median_house_value\", \n",
    "                grid = False, \n",
    "                bins = range(0,500001,10000))"
   ]
  },
  {
   "cell_type": "markdown",
   "metadata": {},
   "source": [
    "To draw a line on the mean, we can import  [__matplotlib__](https://matplotlib.org/stable/gallery/index.html) - which is a useful package for plotting.\n",
    "\n",
    "If you're feeling ambitious, try creating a graph that we haven't described here by looking at the [matplotlib](https://matplotlib.org/stable/gallery/index.html) documentation. Point is - there are billion ways of visualizing data - but all of them follow a similar pattern - namely, you need the data to represent (in this case, \"median_house_value\" column), and certain plot-specific parameters, like \"bins\"."
   ]
  },
  {
   "cell_type": "code",
   "execution_count": null,
   "metadata": {
    "ExecuteTime": {
     "end_time": "2022-09-04T05:51:21.793917Z",
     "start_time": "2022-09-04T05:51:21.775940Z"
    }
   },
   "outputs": [],
   "source": [
    "import matplotlib.pyplot as plt"
   ]
  },
  {
   "cell_type": "code",
   "execution_count": null,
   "metadata": {
    "ExecuteTime": {
     "end_time": "2022-09-04T05:51:23.192882Z",
     "start_time": "2022-09-04T05:51:23.022873Z"
    }
   },
   "outputs": [],
   "source": [
    "just_median_house_prices = california[\"median_house_value\"]\n",
    "just_median_house_prices.hist(bins = range(0,500001,10000))\n",
    "plt.axvline(x = just_median_house_prices.median(), color=\"red\", label = \"median\")\n",
    "plt.legend()"
   ]
  },
  {
   "cell_type": "markdown",
   "metadata": {
    "ExecuteTime": {
     "end_time": "2022-09-04T05:23:22.622850Z",
     "start_time": "2022-09-04T05:23:22.611846Z"
    }
   },
   "source": [
    "### Question 8\n",
    "Try plotting the mean instead of the median. What is the value of the mean? **Why is it different?**"
   ]
  },
  {
   "cell_type": "code",
   "execution_count": null,
   "metadata": {},
   "outputs": [],
   "source": []
  },
  {
   "cell_type": "markdown",
   "metadata": {},
   "source": [
    "## Scatter Plots\n",
    "Scatter plots are generally used to relate two variables to one another. They can be useful when trying to infer relationships between variables, visualize simple regressions, and get a general sense of the \"spread\" of your data.\n",
    "\n",
    "* Again, the x-axis (horizontal) will be our \"median_income\"\n",
    "* The y-axis (vertical) will be the house price "
   ]
  },
  {
   "cell_type": "code",
   "execution_count": null,
   "metadata": {
    "ExecuteTime": {
     "end_time": "2022-09-04T05:51:32.695243Z",
     "start_time": "2022-09-04T05:51:32.575245Z"
    }
   },
   "outputs": [],
   "source": [
    "# Median house value vs Median income. Do you spot a relationship?\n",
    "california.plot.scatter(x = \"median_income\", \n",
    "                        y = \"median_house_value\")"
   ]
  },
  {
   "cell_type": "markdown",
   "metadata": {},
   "source": [
    "In addition to \"matplotlib\", which we used above to draw the \"median\" line, we can also use [__\"seaborn\"__](https://seaborn.pydata.org/introduction.html). \n",
    "\n",
    "In my view, seaborn has generally **better looking plots**, and the \"syntax\" for creating plots is very simple. \n"
   ]
  },
  {
   "cell_type": "code",
   "execution_count": null,
   "metadata": {
    "ExecuteTime": {
     "end_time": "2022-09-04T05:51:36.656822Z",
     "start_time": "2022-09-04T05:51:36.183811Z"
    }
   },
   "outputs": [],
   "source": [
    "import seaborn as sns"
   ]
  },
  {
   "cell_type": "code",
   "execution_count": null,
   "metadata": {
    "ExecuteTime": {
     "end_time": "2022-09-04T05:51:38.306758Z",
     "start_time": "2022-09-04T05:51:37.474762Z"
    }
   },
   "outputs": [],
   "source": [
    "sns.lmplot(x = \"median_income\", \n",
    "           y = \"median_house_value\", \n",
    "           data = california,\n",
    "           fit_reg = True,\n",
    "           line_kws={'color': 'red'},\n",
    "           height = 10,\n",
    "           aspect = 1) ## note - there is no width parameter - according to the documentation\n",
    "                          ## Aspect = \"aspect * height\" gives the width of each facet in inches."
   ]
  },
  {
   "cell_type": "markdown",
   "metadata": {},
   "source": [
    "**Bonus**: If we are interested in making a \"causal\" statement, we would need to get the parameters of this line. \n",
    "\n",
    "To get the  \"parameters\" of the red line (linear regression), we can import scipy's stats functionality and use the following code."
   ]
  },
  {
   "cell_type": "code",
   "execution_count": null,
   "metadata": {
    "ExecuteTime": {
     "end_time": "2022-09-04T05:51:46.039593Z",
     "start_time": "2022-09-04T05:51:46.025582Z"
    }
   },
   "outputs": [],
   "source": [
    "from scipy import stats\n",
    "slope, intercept, r_value, p_value, std_err = stats.linregress(california['median_income'],\n",
    "                                                               california['median_house_value'])"
   ]
  },
  {
   "cell_type": "code",
   "execution_count": null,
   "metadata": {
    "ExecuteTime": {
     "end_time": "2022-09-04T05:51:47.101579Z",
     "start_time": "2022-09-04T05:51:47.083581Z"
    }
   },
   "outputs": [],
   "source": [
    "slope"
   ]
  },
  {
   "cell_type": "markdown",
   "metadata": {},
   "source": [
    "What does this number mean?"
   ]
  },
  {
   "cell_type": "markdown",
   "metadata": {},
   "source": [
    "# Summary of pandas functions"
   ]
  },
  {
   "cell_type": "markdown",
   "metadata": {
    "ExecuteTime": {
     "end_time": "2022-09-01T06:22:55.578191Z",
     "start_time": "2022-09-01T06:22:55.560172Z"
    }
   },
   "source": [
    "As you can see, we used pandas to draw plots, access and subset the data, etc. Thinking about data in terms of rows and columns is very natural so pandas is indeed **a very convenient tool for understanding data.** Thus, getting a hand of pandas is important.\n",
    "\n",
    "As a summary, here are some useful functions that you can refer to when using pandas.\n",
    "    \n",
    "|Name|Example|Purpose|\n",
    "|-|-|-|\n",
    "|`DataFrame`|`DataFrame()`|Create an empty DataFrame, usually to extend with data|\n",
    "|`pd.read_csv`|`pandas.read_table(\"my_data.csv\")`|Create a DataFrame from a data file|\n",
    "|`pd.DataFrame({})`|`df = pandas.DataFrame({\"N\": np.arange(5), \"2*N\": np.arange(0, 10, 2)})`|Create a copy of a DataFrame with specified columns|\n",
    "|`loc`|`df.loc[df[\"N\"] > 10]`|Create a copy of a DataFrame with only the rows that match some *predicate*|\n",
    "|`loc`|`df.loc[\"N\"]`|Create a copy of a DataFrame with only specified column names|\n",
    "|`(subsetting)`|`df[[\"N\"]]`|Another way to create a copy of a DataFrame with only specified column names|\n",
    "|`iloc`|`df.iloc(np.arange(0, 6, 2))`|Create a copy of the DataFrame with only the rows whose indices are in the given array|\n",
    "|`sort`|`df.sort([\"N\"])`|Create a copy of a DataFrame sorted by the values in a column|\n",
    "|`index`|`len(df.index)`|Compute the number of rows in a DataFrame|\n",
    "|`columns`|`len(tbl.columns)`|Compute the number of columns in a DataFrame|\n",
    "|`drop`|`df.drop(columns=[\"2*N\"])`|Create a copy of a DataFrame without some of the columns|\n"
   ]
  },
  {
   "cell_type": "code",
   "execution_count": null,
   "metadata": {},
   "outputs": [],
   "source": []
  }
 ],
 "metadata": {
  "anaconda-cloud": {},
  "kernelspec": {
   "display_name": "Python 3 (ipykernel)",
   "language": "python",
   "name": "python3"
  },
  "language_info": {
   "codemirror_mode": {
    "name": "ipython",
    "version": 3
   },
   "file_extension": ".py",
   "mimetype": "text/x-python",
   "name": "python",
   "nbconvert_exporter": "python",
   "pygments_lexer": "ipython3",
   "version": "3.9.7"
  },
  "latex_envs": {
   "LaTeX_envs_menu_present": true,
   "autoclose": false,
   "autocomplete": true,
   "bibliofile": "biblio.bib",
   "cite_by": "apalike",
   "current_citInitial": 1,
   "eqLabelWithNumbers": true,
   "eqNumInitial": 1,
   "hotkeys": {
    "equation": "Ctrl-E",
    "itemize": "Ctrl-I"
   },
   "labels_anchors": false,
   "latex_user_defs": false,
   "report_style_numbering": false,
   "user_envs_cfg": false
  },
  "toc": {
   "base_numbering": 1,
   "nav_menu": {},
   "number_sections": true,
   "sideBar": true,
   "skip_h1_title": false,
   "title_cell": "Table of Contents",
   "title_sidebar": "Contents",
   "toc_cell": false,
   "toc_position": {},
   "toc_section_display": true,
   "toc_window_display": true
  }
 },
 "nbformat": 4,
 "nbformat_minor": 1
}
